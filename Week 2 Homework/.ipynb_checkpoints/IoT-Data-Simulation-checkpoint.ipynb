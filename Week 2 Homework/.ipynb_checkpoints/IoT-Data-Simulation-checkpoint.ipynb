{
 "cells": [
  {
   "cell_type": "markdown",
   "id": "8ec18e73",
   "metadata": {},
   "source": [
    "# MO-IT148 Homework: IoT Data Simulation <Section> <Group Name> \n",
    "E.g., MO-IT148 Homework: IoT Data Simulation A1101 Group One.\n",
    "\n",
    "Start jupyter notebook at your Terminal:\n",
    "$ jupyter notebook"
   ]
  },
  {
   "cell_type": "code",
   "execution_count": null,
   "id": "17a7cba2",
   "metadata": {
    "vscode": {
     "languageId": "plaintext"
    }
   },
   "outputs": [],
   "source": [
    "%pip install pandas numpy\n",
    "\n",
    "import pandas as pd\n",
    "import numpy as np\n",
    "from datetime import datetime, timedelta\n",
    "\n",
    "\n",
    "num_records = 100  # Adjust this number as needed\n",
    "\n",
    "# List of Allowed Status\n",
    "list_status = [\"In Transit\", \"Delivered\", \"Delayed\"]\n",
    "\n",
    "# Data of Smart Logistics\n",
    "data = []\n",
    "\n",
    "\n",
    "for i in range(num_records):\n",
    "    # Use current timestamp but format it with actual time\n",
    "    current_time = datetime.now()\n",
    "\n",
    "    # Format: {date}T{time}I{interval}\n",
    "    formatted_time = current_time.strftime(f\"%Y-%m-%dT%H:%M:%SI{i}\")\n",
    "    \n",
    "    # Random Philippines latitude (4.5 to 21 degrees North)\n",
    "    lat = round(np.random.uniform(4.5, 21.0), 6)\n",
    "    \n",
    "    # Random Philippines longitude (116 to 127 degrees East)\n",
    "    lng = round(np.random.uniform(116.0, 127.0), 6)\n",
    "    \n",
    "    record = {\n",
    "        \"timestamp\": formatted_time,  # Timestamp\n",
    "        \"package_id\": f\"PKG{i+1:03d}\",  # Package ID per interval\n",
    "        \"gps_coords\": f\"({lat}, {lng})\",  # Random GPS Coordinates around the Philippines\n",
    "        \"temperature\": f\"{np.random.randint(24, 31)} C\",  # Random Temperature\n",
    "        \"status\": list_status[np.random.randint(0, 3)],  # Random status\n",
    "    }\n",
    "    data.append(record)\n",
    "\n",
    "# Convert to DataFrame\n",
    "df = pd.DataFrame(data)\n",
    "\n",
    "\n",
    "# Save dataset\n",
    "df.to_csv(\"iot_data.csv\", index=False)\n",
    "df.to_json(\"iot_data.json\", orient=\"records\")\n",
    "\n",
    "\n",
    "# Display first few rows\n",
    "df.head()"
   ]
  }
 ],
 "metadata": {
  "language_info": {
   "name": "python"
  }
 },
 "nbformat": 4,
 "nbformat_minor": 5
}
