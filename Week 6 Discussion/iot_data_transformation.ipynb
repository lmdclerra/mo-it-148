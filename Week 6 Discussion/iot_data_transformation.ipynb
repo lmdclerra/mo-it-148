{
 "cells": [
  {
   "cell_type": "code",
   "execution_count": 37,
   "id": "67bbb8a1",
   "metadata": {},
   "outputs": [
    {
     "name": "stdout",
     "output_type": "stream",
     "text": [
      "IoT sensor data from CSV file:\n",
      "                    timestamp device_id    data_type data_value\n",
      "0  2025-03-04 20:41:46.466097  Device_4       Energy     22.5°C\n",
      "1  2025-03-04 21:41:46.466095  Device_5     Humidity        45%\n",
      "2  2025-03-04 22:41:46.466093  Device_3  Temperature   18.3 kWh\n",
      "3  2025-03-04 23:41:46.466090  Device_5     Humidity        NaN\n",
      "4  2025-03-05 00:41:46.466089  Device_5     Humidity     23.1°C\n",
      "5  2025-03-05 01:41:46.466087  Device_2     Humidity        50%\n",
      "6  2025-03-05 02:41:46.466086  Device_3     Humidity   19.0 kWh\n",
      "7  2025-03-05 03:41:46.466084  Device_3  Temperature     24.0°C\n",
      "8  2025-03-05 04:41:46.466069  Device_3  Temperature        NaN\n",
      "9  2025-03-05 05:41:46.466061  Device_5     Humidity        47%\n",
      "\n",
      "Identify columns with missing values: ['data_value']\n",
      "\n",
      "Cleaned DataFrame:\n",
      "                   timestamp device_id    data_type  data_value\n",
      "0 2025-03-04 20:41:46.466097  Device_4       Energy        22.5\n",
      "1 2025-03-04 21:41:46.466095  Device_5     Humidity        45.0\n",
      "2 2025-03-04 22:41:46.466093  Device_3  Temperature        18.3\n",
      "3 2025-03-04 23:41:46.466090  Device_5     Humidity         0.0\n",
      "4 2025-03-05 00:41:46.466089  Device_5     Humidity        23.1\n",
      "5 2025-03-05 01:41:46.466087  Device_2     Humidity        50.0\n",
      "6 2025-03-05 02:41:46.466086  Device_3     Humidity        19.0\n",
      "7 2025-03-05 03:41:46.466084  Device_3  Temperature        24.0\n",
      "8 2025-03-05 04:41:46.466069  Device_3  Temperature         0.0\n",
      "9 2025-03-05 05:41:46.466061  Device_5     Humidity        47.0\n"
     ]
    }
   ],
   "source": [
    "# iv. To clean and transform the dataset, follow these steps:\n",
    "import pandas as pd\n",
    "\n",
    "\n",
    "# 1. Load IoT sensor data from CSV file (Generated in Homework 1)\n",
    "df = pd.read_csv('../Week 6 Discussion/raw_iot_data.csv')\n",
    "\n",
    "print(\"IoT sensor data from CSV file:\")\n",
    "print(df)\n",
    "\n",
    "# 2. Identify columns with missing values and decide on an appropriate strategy for handling them\n",
    "# (e.g., replacing missing values with 0, using the mean or median of the column)\n",
    "missing_columns = df.columns[df.isnull().any()]\n",
    "print(\"\\nIdentify columns with missing values:\", missing_columns.tolist())\n",
    "\n",
    "# 3. Some IoT sensor readings may contain units or text (e.g., \"22.5°C\", \"50% humidity\", \"15.3 kWh\").\n",
    "# Extract numerical values where applicable to ensure usability\n",
    "def extract_numeric(value):\n",
    "    \"\"\"Extract numeric value from a string, removing any non-numeric characters.\"\"\"\n",
    "    if isinstance(value, str):\n",
    "        # Remove non-numeric characters except for decimal points\n",
    "        return ''.join(filter(lambda x: x.isdigit() or x == '.', value))\n",
    "    return value\n",
    "\n",
    "df['data_value'] = df['data_value'].apply(extract_numeric)\n",
    "\n",
    "# replace NaN values in the 'data_value' column with 0\n",
    "df['data_value'] = pd.to_numeric(df['data_value'], errors='coerce').fillna(0)\n",
    "\n",
    "# 4. Group sensor readings by time (e.g., hourly averages) to analyze trends over time\n",
    "df['timestamp'] = pd.to_datetime(df['timestamp'])\n",
    "\n",
    "# 5. Check for inconsistencies, duplicates and outliers that may affect analysis\n",
    "df = df.drop_duplicates(subset=['device_id', 'data_type', 'data_value'])\n",
    "\n",
    "# Display the cleaned DataFrame\n",
    "print(\"\\nCleaned DataFrame:\")\n",
    "print(df)\n",
    "\n",
    "# v. Save the cleaned DataFrame to a new CSV file\n",
    "df.to_csv('../Week 6 Discussion/cleaned_iot_data.csv', index=False)"
   ]
  }
 ],
 "metadata": {
  "kernelspec": {
   "display_name": "Python 3 (ipykernel)",
   "language": "python",
   "name": "python3"
  },
  "language_info": {
   "codemirror_mode": {
    "name": "ipython",
    "version": 3
   },
   "file_extension": ".py",
   "mimetype": "text/x-python",
   "name": "python",
   "nbconvert_exporter": "python",
   "pygments_lexer": "ipython3",
   "version": "3.13.3"
  }
 },
 "nbformat": 4,
 "nbformat_minor": 5
}
