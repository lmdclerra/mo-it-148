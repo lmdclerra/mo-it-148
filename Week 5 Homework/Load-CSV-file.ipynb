{
 "cells": [
  {
   "cell_type": "code",
   "execution_count": 17,
   "id": "dc18f6e2",
   "metadata": {},
   "outputs": [
    {
     "name": "stdout",
     "output_type": "stream",
     "text": [
      "               timestamp package_id               gps_coords temperature  \\\n",
      "0  2025-06-02T21:36:32I0     PKG001   (7.839114, 125.820784)        29 C   \n",
      "1  2025-06-02T21:36:32I1     PKG002  (16.754497, 116.599905)        24 C   \n",
      "2  2025-06-02T21:36:32I2     PKG003  (16.521005, 119.641554)        29 C   \n",
      "3  2025-06-02T21:36:32I3     PKG004  (10.941567, 118.303819)        29 C   \n",
      "4  2025-06-02T21:36:32I4     PKG005   (9.844815, 118.509812)        29 C   \n",
      "\n",
      "       status  \n",
      "0   Delivered  \n",
      "1   Delivered  \n",
      "2     Delayed  \n",
      "3   Delivered  \n",
      "4  In Transit  \n"
     ]
    }
   ],
   "source": [
    "# Load CSV file from your Homework 1\n",
    "import pandas as pd\n",
    "\n",
    "\n",
    "# Load IoT sensor data from CSV file (Generated in Homework 1)\n",
    "df = pd.read_csv('../Week 5 Homework/iot_data.csv')\n",
    "\n",
    "# Display the first few rows of the DataFrame\n",
    "print(df.head())"
   ]
  }
 ],
 "metadata": {
  "kernelspec": {
   "display_name": "Python 3 (ipykernel)",
   "language": "python",
   "name": "python3"
  }
 },
 "nbformat": 4,
 "nbformat_minor": 5
}
