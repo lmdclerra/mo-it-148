{
 "cells": [
  {
   "cell_type": "code",
   "execution_count": null,
   "id": "ad7ff51a-5393-43da-a3e5-36b1238d0f2c",
   "metadata": {},
   "outputs": [
    {
     "name": "stdout",
     "output_type": "stream",
     "text": [
      "✅ Connected to Ganache successfully!\n",
      "✅ Connected to Smart Contract at 0xb81b8BDAEA8B6646D0e81B521D59297Cfd0B425c\n",
      "✅ Dummy IoT data entry stored successfully on blockchain!\n",
      "Total Records: 1\n",
      "First Stored Record : [1749309649, 'TEST001', '(7.839114, 125.820784)', '29°C', 'Delivered']\n"
     ]
    }
   ],
   "source": [
    "# Week 4 - Milestone 1: Smart Tracking System Blockchain Ledger (Draft)\n",
    "\n",
    "# This script is intended to be run in a Jupyter Notebook environment.\n",
    "# To run this script, ensure you have Jupyter Notebook installed and running.\n",
    "\n",
    "# You can install Jupyter Notebook using pip:\n",
    "# %pip install notebook\n",
    "\n",
    "# You can start Jupyter Notebook by running the following command in your terminal:\n",
    "# $ jupyter notebook \n",
    "\n",
    "# This script connects to a local Ganache blockchain using Web3.py.\n",
    "# Make sure you have Ganache running and Web3.py installed.\n",
    "# %pip install web3\n",
    "\n",
    "from web3 import Web3\n",
    "import json\n",
    "\n",
    "# Connect to local Ganache blockchain\n",
    "ganache_url = \"http://127.0.0.1:7545\"\n",
    "web3 = Web3(Web3.HTTPProvider(ganache_url))\n",
    "\n",
    "# Check if connected to Ganache\n",
    "if web3.is_connected():\n",
    "    print(\"✅ Connected to Ganache successfully!\")\n",
    "else:\n",
    "    print(\"❌ Connection failed. Ensure Ganache is running.\")\n",
    "    exit()\n",
    "\n",
    "# Replace with actual contract address form Remix \n",
    "contract_address = \"0xb81b8BDAEA8B6646D0e81B521D59297Cfd0B425c\"\n",
    "\n",
    "# Paste the ABI from Remix \n",
    "# abi = [...] # Replace with the actual ABI of your contract\n",
    "\n",
    "# If you have the ABI in a file, you can load it like this:\n",
    "with open('copy-of-abi.json', 'r') as abi_file:\n",
    "    abi = json.load(abi_file)\n",
    "\n",
    "# Load the smart contract\n",
    "contract = web3.eth.contract(address=contract_address, abi=abi)\n",
    "\n",
    "# Set the default sender address (the first account from Ganache)\n",
    "web3.eth.default_account = web3.eth.accounts[0]\n",
    "\n",
    "print(f\"✅ Connected to Smart Contract at {contract_address}\")\n",
    "\n",
    "# store a dummy IoT data entry manually to test if transactions work\n",
    "# arguments: [timestamp], package_id, gps_coords, temperature, status\n",
    "txn = contract.functions.storeData(\n",
    "    \"TEST001\",\n",
    "    \"(7.839114, 125.820784)\",\n",
    "    \"29°C\",\n",
    "    \"Delivered\"\n",
    ").transact({\n",
    "    'from': web3.eth.default_account,\n",
    "    'gas': 1000000\n",
    "})\n",
    "\n",
    "web3.eth.wait_for_transaction_receipt(txn)\n",
    "print(\"✅ Dummy IoT data entry stored successfully on blockchain!\")\n",
    "\n",
    "# call getTotalRecords() to check if the contract is responding\n",
    "total_records = contract.functions.getTotalRecords().call()\n",
    "print(f\"Total Records: {total_records}\")\n",
    "\n",
    "# verify if data retrieval works\n",
    "record = contract.functions.getRecord(0).call()\n",
    "print(f\"First Stored Record : {record}\")\n"
   ]
  }
 ],
 "metadata": {
  "kernelspec": {
   "display_name": "Python 3 (ipykernel)",
   "language": "python",
   "name": "python3"
  },
  "language_info": {
   "codemirror_mode": {
    "name": "ipython",
    "version": 3
   },
   "file_extension": ".py",
   "mimetype": "text/x-python",
   "name": "python",
   "nbconvert_exporter": "python",
   "pygments_lexer": "ipython3",
   "version": "3.13.3"
  }
 },
 "nbformat": 4,
 "nbformat_minor": 5
}
